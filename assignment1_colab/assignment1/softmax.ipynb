{
 "cells": [
  {
   "cell_type": "code",
   "execution_count": 6,
   "id": "d8aaae81",
   "metadata": {},
   "outputs": [
    {
     "name": "stdout",
     "output_type": "stream",
     "text": [
      "/workspaces/cs231n/assignment1_colab/assignment1/cs231n/datasets\n",
      "/workspaces/cs231n/assignment1_colab/assignment1\n"
     ]
    }
   ],
   "source": [
    "# TODO: Enter the foldername in your Drive where you have saved the unzipped\n",
    "# assignment folder, e.g. 'cs231n/assignments/assignment1/'\n",
    "FOLDERNAME = r'/workspaces/cs231n/assignment1_colab/assignment1'\n",
    "assert FOLDERNAME is not None, \"[!] Enter the foldername.\"\n",
    "\n",
    "# Now that we've mounted your Drive, this ensures that\n",
    "# the Python interpreter of the Colab VM can load\n",
    "# python files from within it.\n",
    "import sys\n",
    "sys.path.append('{}'.format(FOLDERNAME))\n",
    "\n",
    "# This downloads the CIFAR-10 dataset to your Drive\n",
    "# if it doesn't already exist.\n",
    "%cd $FOLDERNAME/cs231n/datasets/\n",
    "!bash get_datasets.sh\n",
    "%cd $FOLDERNAME"
   ]
  },
  {
   "cell_type": "markdown",
   "id": "e2c3cfa1",
   "metadata": {
    "tags": [
     "pdf-title"
    ]
   },
   "source": [
    "# Softmax exercise\n",
    "\n",
    "*Complete and hand in this completed worksheet (including its outputs and any supporting code outside of the worksheet) with your assignment submission. For more details see the [assignments page](http://vision.stanford.edu/teaching/cs231n/assignments.html) on the course website.*\n",
    "\n",
    "This exercise is analogous to the SVM exercise. You will:\n",
    "\n",
    "- implement a fully-vectorized **loss function** for the Softmax classifier\n",
    "- implement the fully-vectorized expression for its **analytic gradient**\n",
    "- **check your implementation** with numerical gradient\n",
    "- use a validation set to **tune the learning rate and regularization** strength\n",
    "- **optimize** the loss function with **SGD**\n",
    "- **visualize** the final learned weights\n"
   ]
  },
  {
   "cell_type": "code",
   "execution_count": 7,
   "id": "c55a72bf",
   "metadata": {
    "tags": [
     "pdf-ignore"
    ]
   },
   "outputs": [
    {
     "name": "stdout",
     "output_type": "stream",
     "text": [
      "The autoreload extension is already loaded. To reload it, use:\n",
      "  %reload_ext autoreload\n"
     ]
    }
   ],
   "source": [
    "import random\n",
    "import numpy as np\n",
    "from cs231n.data_utils import load_CIFAR10\n",
    "import matplotlib.pyplot as plt\n",
    "\n",
    "%matplotlib inline\n",
    "plt.rcParams['figure.figsize'] = (10.0, 8.0) # set default size of plots\n",
    "plt.rcParams['image.interpolation'] = 'nearest'\n",
    "plt.rcParams['image.cmap'] = 'gray'\n",
    "\n",
    "# for auto-reloading extenrnal modules\n",
    "# see http://stackoverflow.com/questions/1907993/autoreload-of-modules-in-ipython\n",
    "%load_ext autoreload\n",
    "%autoreload 2"
   ]
  },
  {
   "cell_type": "code",
   "execution_count": 8,
   "id": "b99594ec",
   "metadata": {
    "tags": [
     "pdf-ignore"
    ]
   },
   "outputs": [
    {
     "name": "stdout",
     "output_type": "stream",
     "text": [
      "Train data shape:  (49000, 3073)\n",
      "Train labels shape:  (49000,)\n",
      "Validation data shape:  (1000, 3073)\n",
      "Validation labels shape:  (1000,)\n",
      "Test data shape:  (1000, 3073)\n",
      "Test labels shape:  (1000,)\n",
      "dev data shape:  (500, 3073)\n",
      "dev labels shape:  (500,)\n"
     ]
    }
   ],
   "source": [
    "def get_CIFAR10_data(num_training=49000, num_validation=1000, num_test=1000, num_dev=500):\n",
    "   \"\"\"\n",
    "   Load the CIFAR-10 dataset from disk and perform preprocessing to prepare\n",
    "   it for the linear classifier. These are the same steps as we used for the\n",
    "   SVM, but condensed to a single function.  \n",
    "   \"\"\"\n",
    "   # Load the raw CIFAR-10 data\n",
    "   cifar10_dir = 'cs231n/datasets/cifar-10-batches-py'\n",
    "   \n",
    "   # Cleaning up variables to prevent loading data multiple times (which may cause memory issue)\n",
    "   try:\n",
    "      del X_train, y_train\n",
    "      del X_test, y_test\n",
    "      print('Clear previously loaded data.')\n",
    "   except:\n",
    "      pass\n",
    "\n",
    "   X_train, y_train, X_test, y_test = load_CIFAR10(cifar10_dir)\n",
    "   \n",
    "   # subsample the data\n",
    "   mask = list(range(num_training, num_training + num_validation))\n",
    "   X_val = X_train[mask]\n",
    "   y_val = y_train[mask]\n",
    "   mask = list(range(num_training))\n",
    "   X_train = X_train[mask]\n",
    "   y_train = y_train[mask]\n",
    "   mask = list(range(num_test))\n",
    "   X_test = X_test[mask]\n",
    "   y_test = y_test[mask]\n",
    "   mask = np.random.choice(num_training, num_dev, replace=False)\n",
    "   X_dev = X_train[mask]\n",
    "   y_dev = y_train[mask]\n",
    "   \n",
    "   # Preprocessing: reshape the image data into rows\n",
    "   X_train = np.reshape(X_train, (X_train.shape[0], -1))\n",
    "   X_val = np.reshape(X_val, (X_val.shape[0], -1))\n",
    "   X_test = np.reshape(X_test, (X_test.shape[0], -1))\n",
    "   X_dev = np.reshape(X_dev, (X_dev.shape[0], -1))\n",
    "   \n",
    "   # Normalize the data: subtract the mean image\n",
    "   mean_image = np.mean(X_train, axis = 0)\n",
    "   X_train -= mean_image\n",
    "   X_val -= mean_image\n",
    "   X_test -= mean_image\n",
    "   X_dev -= mean_image\n",
    "   \n",
    "   # add bias dimension and transform into columns\n",
    "   X_train = np.hstack([X_train, np.ones((X_train.shape[0], 1))])\n",
    "   X_val = np.hstack([X_val, np.ones((X_val.shape[0], 1))])\n",
    "   X_test = np.hstack([X_test, np.ones((X_test.shape[0], 1))])\n",
    "   X_dev = np.hstack([X_dev, np.ones((X_dev.shape[0], 1))])\n",
    "   \n",
    "   return X_train, y_train, X_val, y_val, X_test, y_test, X_dev, y_dev\n",
    "\n",
    "\n",
    "# Invoke the above function to get our data.\n",
    "X_train, y_train, X_val, y_val, X_test, y_test, X_dev, y_dev = get_CIFAR10_data()\n",
    "print('Train data shape: ', X_train.shape)\n",
    "print('Train labels shape: ', y_train.shape)\n",
    "print('Validation data shape: ', X_val.shape)\n",
    "print('Validation labels shape: ', y_val.shape)\n",
    "print('Test data shape: ', X_test.shape)\n",
    "print('Test labels shape: ', y_test.shape)\n",
    "print('dev data shape: ', X_dev.shape)\n",
    "print('dev labels shape: ', y_dev.shape)"
   ]
  },
  {
   "cell_type": "markdown",
   "id": "2713b7f4",
   "metadata": {},
   "source": [
    "## Softmax Classifier\n",
    "\n",
    "Your code for this section will all be written inside `cs231n/classifiers/softmax.py`.\n"
   ]
  },
  {
   "cell_type": "code",
   "execution_count": 25,
   "id": "6168f67e",
   "metadata": {},
   "outputs": [
    {
     "name": "stdout",
     "output_type": "stream",
     "text": [
      "loss: 55.178304\n",
      "sanity check: 2.302585\n"
     ]
    }
   ],
   "source": [
    "# First implement the naive softmax loss function with nested loops.\n",
    "# Open the file cs231n/classifiers/softmax.py and implement the\n",
    "# softmax_loss_naive function.\n",
    "\n",
    "from cs231n.classifiers.softmax import softmax_loss_naive\n",
    "import time\n",
    "\n",
    "# Generate a random softmax weight matrix and use it to compute the loss.\n",
    "W = np.random.randn(3073, 10) * 0.01 # 0.0001\n",
    "loss, grad = softmax_loss_naive(W, X_dev, y_dev, 0.0)\n",
    "\n",
    "# As a rough sanity check, our loss should be something close to -log(0.1).\n",
    "print('loss: %f' % loss)\n",
    "print('sanity check: %f' % (-np.log(0.1)))"
   ]
  },
  {
   "cell_type": "markdown",
   "id": "b35bc604",
   "metadata": {
    "tags": [
     "pdf-inline"
    ]
   },
   "source": [
    "**Inline Question 1**\n",
    "\n",
    "Why do we expect our loss to be close to -log(0.1)? Explain briefly.**\n",
    "\n",
    "$\\color{blue}{\\textit Your Answer:}$ \n",
    "\n",
    "Because given the problem setting, the CE loss can be equally transformed into the following form:\n",
    "\n",
    "$$CE = \\frac{1}{N} \\sum_{i}^{N} - s_{y_{i}} + \\log\\left(\\sum_{j}^{C} e^{s_j} \\right) $$\n",
    "\n",
    "and since the parameter $W$ is initialized quite close to zeros, $s_i$ s are also qutie close to zeros, which yields\n",
    "\n",
    "$$ CE \\approx \\frac{1}{N} \\sum_{i}^{N} \\log\\left(\\sum_{j}^{C} 1 \\right) = \\frac{1}{N} \\sum_{i}^{N} \\log{10} = -\\log{0.1}$$\n",
    "\n"
   ]
  },
  {
   "cell_type": "code",
   "execution_count": 30,
   "id": "b7bef674",
   "metadata": {},
   "outputs": [
    {
     "name": "stdout",
     "output_type": "stream",
     "text": [
      "numerical: -1.938117 analytic: -1.938117, relative error: 3.511458e-09\n",
      "numerical: 0.782185 analytic: 0.782185, relative error: 1.916056e-09\n",
      "numerical: 4.232344 analytic: 4.232344, relative error: 1.444811e-09\n",
      "numerical: -2.271989 analytic: -2.271989, relative error: 3.781715e-09\n",
      "numerical: 3.323267 analytic: 3.323267, relative error: 1.729598e-09\n",
      "numerical: 0.880210 analytic: 0.880210, relative error: 1.873152e-09\n",
      "numerical: 0.667688 analytic: 0.667688, relative error: 4.083270e-10\n",
      "numerical: -0.932168 analytic: -0.932168, relative error: 2.619517e-09\n",
      "numerical: 0.561875 analytic: 0.561875, relative error: 4.993228e-09\n",
      "numerical: -2.346858 analytic: -2.346858, relative error: 1.159085e-09\n",
      "numerical: 2.813446 analytic: 2.813446, relative error: 5.732997e-11\n",
      "numerical: -2.708189 analytic: -2.708189, relative error: 6.249044e-10\n",
      "numerical: 7.259580 analytic: 7.259580, relative error: 5.252604e-10\n",
      "numerical: -9.185462 analytic: -9.185462, relative error: 1.543445e-10\n",
      "numerical: -16.840909 analytic: -16.840909, relative error: 2.345401e-10\n",
      "numerical: -17.397902 analytic: -17.397902, relative error: 7.113891e-11\n",
      "numerical: 1.531309 analytic: 1.531309, relative error: 4.033127e-09\n",
      "numerical: 1.629277 analytic: 1.629277, relative error: 6.802416e-10\n",
      "numerical: -1.016518 analytic: -1.016518, relative error: 1.737155e-09\n",
      "numerical: -9.020848 analytic: -9.020848, relative error: 1.016014e-10\n"
     ]
    }
   ],
   "source": [
    "# Complete the implementation of softmax_loss_naive and implement a (naive)\n",
    "# version of the gradient that uses nested loops.\n",
    "loss, grad = softmax_loss_naive(W, X_dev, y_dev, 0.0)\n",
    "\n",
    "# As we did for the SVM, use numeric gradient checking as a debugging tool.\n",
    "# The numeric gradient should be close to the analytic gradient.\n",
    "from cs231n.gradient_check import grad_check_sparse\n",
    "f = lambda w: softmax_loss_naive(w, X_dev, y_dev, 0.0)[0]\n",
    "grad_numerical = grad_check_sparse(f, W, grad, 10)\n",
    "\n",
    "# similar to SVM case, do another gradient check with regularization\n",
    "loss, grad = softmax_loss_naive(W, X_dev, y_dev, 5e1)\n",
    "f = lambda w: softmax_loss_naive(w, X_dev, y_dev, 5e1)[0]\n",
    "grad_numerical = grad_check_sparse(f, W, grad, 10)"
   ]
  },
  {
   "cell_type": "code",
   "execution_count": 105,
   "id": "3994f8a3",
   "metadata": {},
   "outputs": [
    {
     "name": "stdout",
     "output_type": "stream",
     "text": [
      "naive loss: 5.517832e+01 computed in 0.059963s\n",
      "vectorized loss: 5.517832e+01 computed in 0.015506s\n",
      "Loss difference: 0.000000\n",
      "Gradient difference: 0.000000\n"
     ]
    }
   ],
   "source": [
    "# Now that we have a naive implementation of the softmax loss function and its gradient,\n",
    "# implement a vectorized version in softmax_loss_vectorized.\n",
    "# The two versions should compute the same results, but the vectorized version should be\n",
    "# much faster.\n",
    "tic = time.time()\n",
    "loss_naive, grad_naive = softmax_loss_naive(W, X_dev, y_dev, 0.000005)\n",
    "toc = time.time()\n",
    "print('naive loss: %e computed in %fs' % (loss_naive, toc - tic))\n",
    "\n",
    "from cs231n.classifiers.softmax import softmax_loss_vectorized\n",
    "tic = time.time()\n",
    "loss_vectorized, grad_vectorized = softmax_loss_vectorized(W, X_dev, y_dev, 0.000005)\n",
    "toc = time.time()\n",
    "print('vectorized loss: %e computed in %fs' % (loss_vectorized, toc - tic))\n",
    "\n",
    "# As we did for the SVM, we use the Frobenius norm to compare the two versions\n",
    "# of the gradient.\n",
    "grad_difference = np.linalg.norm(grad_naive - grad_vectorized, ord='fro')\n",
    "print('Loss difference: %f' % np.abs(loss_naive - loss_vectorized))\n",
    "print('Gradient difference: %f' % grad_difference)"
   ]
  },
  {
   "cell_type": "code",
   "execution_count": 110,
   "id": "bd171311",
   "metadata": {
    "tags": [
     "code"
    ],
    "test": "tuning"
   },
   "outputs": [
    {
     "name": "stdout",
     "output_type": "stream",
     "text": [
      "lr 1.000000e-08 reg 1.000000e+04 train accuracy: 0.141184 val accuracy: 0.150000\n",
      "lr 1.000000e-08 reg 2.500000e+04 train accuracy: 0.184633 val accuracy: 0.189000\n",
      "lr 1.000000e-08 reg 5.000000e+04 train accuracy: 0.201061 val accuracy: 0.200000\n",
      "lr 1.000000e-08 reg 7.500000e+04 train accuracy: 0.242388 val accuracy: 0.261000\n",
      "lr 1.000000e-08 reg 1.000000e+05 train accuracy: 0.258939 val accuracy: 0.270000\n",
      "lr 5.000000e-08 reg 1.000000e+04 train accuracy: 0.305367 val accuracy: 0.298000\n",
      "lr 5.000000e-08 reg 2.500000e+04 train accuracy: 0.327245 val accuracy: 0.330000\n",
      "lr 5.000000e-08 reg 5.000000e+04 train accuracy: 0.306857 val accuracy: 0.328000\n",
      "lr 5.000000e-08 reg 7.500000e+04 train accuracy: 0.293980 val accuracy: 0.308000\n",
      "lr 5.000000e-08 reg 1.000000e+05 train accuracy: 0.287531 val accuracy: 0.308000\n",
      "lr 1.000000e-07 reg 1.000000e+04 train accuracy: 0.348224 val accuracy: 0.350000\n",
      "lr 1.000000e-07 reg 2.500000e+04 train accuracy: 0.330612 val accuracy: 0.343000\n",
      "lr 1.000000e-07 reg 5.000000e+04 train accuracy: 0.312020 val accuracy: 0.326000\n",
      "lr 1.000000e-07 reg 7.500000e+04 train accuracy: 0.300184 val accuracy: 0.310000\n",
      "lr 1.000000e-07 reg 1.000000e+05 train accuracy: 0.282122 val accuracy: 0.295000\n",
      "lr 5.000000e-07 reg 1.000000e+04 train accuracy: 0.350286 val accuracy: 0.359000\n",
      "lr 5.000000e-07 reg 2.500000e+04 train accuracy: 0.333694 val accuracy: 0.363000\n",
      "lr 5.000000e-07 reg 5.000000e+04 train accuracy: 0.315388 val accuracy: 0.321000\n",
      "lr 5.000000e-07 reg 7.500000e+04 train accuracy: 0.291408 val accuracy: 0.304000\n",
      "lr 5.000000e-07 reg 1.000000e+05 train accuracy: 0.285408 val accuracy: 0.298000\n",
      "lr 1.000000e-06 reg 1.000000e+04 train accuracy: 0.348163 val accuracy: 0.363000\n",
      "lr 1.000000e-06 reg 2.500000e+04 train accuracy: 0.325163 val accuracy: 0.323000\n",
      "lr 1.000000e-06 reg 5.000000e+04 train accuracy: 0.293449 val accuracy: 0.308000\n",
      "lr 1.000000e-06 reg 7.500000e+04 train accuracy: 0.294020 val accuracy: 0.306000\n",
      "lr 1.000000e-06 reg 1.000000e+05 train accuracy: 0.286224 val accuracy: 0.305000\n",
      "best validation accuracy achieved during cross-validation: 0.363000\n"
     ]
    }
   ],
   "source": [
    "# Use the validation set to tune hyperparameters (regularization strength and\n",
    "# learning rate). You should experiment with different ranges for the learning\n",
    "# rates and regularization strengths; if you are careful you should be able to\n",
    "# get a classification accuracy of over 0.35 on the validation set.\n",
    "\n",
    "from cs231n.classifiers import Softmax\n",
    "results = {}\n",
    "best_val = -1\n",
    "best_softmax = None\n",
    "\n",
    "################################################################################\n",
    "# TODO:                                                                        #\n",
    "# Use the validation set to set the learning rate and regularization strength. #\n",
    "# This should be identical to the validation that you did for the SVM; save    #\n",
    "# the best trained softmax classifer in best_softmax.                          #\n",
    "################################################################################\n",
    "\n",
    "# Provided as a reference. You may or may not want to change these hyperparameters\n",
    "learning_rates = [1e-8, 5e-8, 1e-7, 5e-7, 1e-6]\n",
    "regularization_strengths = [1e4, 2.5e4, 5e4, 7.5e4, 1e5]\n",
    "\n",
    "# *****START OF YOUR CODE (DO NOT DELETE/MODIFY THIS LINE)*****\n",
    "\n",
    "max_iter = 1500\n",
    "\n",
    "for lr in learning_rates:\n",
    "    for reg in regularization_strengths:\n",
    "        model = Softmax()\n",
    "        model.train(X_train, y_train, lr, reg, max_iter)\n",
    "        y_pred_train = model.predict(X_train)\n",
    "        y_pred_valid = model.predict(X_val)\n",
    "        acc_train = np.sum(y_pred_train == y_train) / y_train.shape[0]\n",
    "        acc_valid = np.sum(y_pred_valid == y_val) / y_val.shape[0]\n",
    "        if best_val < acc_valid:\n",
    "            best_val = acc_valid\n",
    "            best_softmax = model\n",
    "        \n",
    "        results[(lr, reg)] = (acc_train, acc_valid)\n",
    "\n",
    "# *****END OF YOUR CODE (DO NOT DELETE/MODIFY THIS LINE)*****\n",
    "    \n",
    "# Print out results.\n",
    "for lr, reg in sorted(results):\n",
    "    train_accuracy, val_accuracy = results[(lr, reg)]\n",
    "    print('lr %e reg %e train accuracy: %f val accuracy: %f' % (\n",
    "                lr, reg, train_accuracy, val_accuracy))\n",
    "    \n",
    "print('best validation accuracy achieved during cross-validation: %f' % best_val)"
   ]
  },
  {
   "cell_type": "code",
   "execution_count": 111,
   "id": "f94a8f12",
   "metadata": {
    "test": "test"
   },
   "outputs": [
    {
     "name": "stdout",
     "output_type": "stream",
     "text": [
      "softmax on raw pixels final test set accuracy: 0.350000\n"
     ]
    }
   ],
   "source": [
    "# evaluate on test set\n",
    "# Evaluate the best softmax on test set\n",
    "y_test_pred = best_softmax.predict(X_test)\n",
    "test_accuracy = np.mean(y_test == y_test_pred)\n",
    "print('softmax on raw pixels final test set accuracy: %f' % (test_accuracy, ))"
   ]
  },
  {
   "cell_type": "markdown",
   "id": "7e2112ee",
   "metadata": {
    "tags": [
     "pdf-inline"
    ]
   },
   "source": [
    "**Inline Question 2** - *True or False*\n",
    "\n",
    "Suppose the overall training loss is defined as the sum of the per-datapoint loss over all training examples. It is possible to add a new datapoint to a training set that would leave the SVM loss unchanged, but this is not the case with the Softmax classifier loss.\n",
    "\n",
    "$\\color{blue}{\\textit Your Answer:}$\n",
    "\n",
    "True\n",
    "\n",
    "$\\color{blue}{\\textit Your Explanation:}$\n",
    "\n",
    "For SVM loss, adding an example that results in -1 score (this is possible by solving linear equations) doesn't change the loss. For Softmax loss, $e^{s_j}$ is always positive given any finite $s_j$, which changes the loss."
   ]
  },
  {
   "cell_type": "code",
   "execution_count": 112,
   "id": "86d86120",
   "metadata": {},
   "outputs": [
    {
     "data": {
      "image/png": "[encoded data removed]",
      "text/plain": [
       "<Figure size 1000x800 with 10 Axes>"
      ]
     },
     "metadata": {},
     "output_type": "display_data"
    }
   ],
   "source": [
    "# Visualize the learned weights for each class\n",
    "w = best_softmax.W[:-1,:] # strip out the bias\n",
    "w = w.reshape(32, 32, 3, 10)\n",
    "\n",
    "w_min, w_max = np.min(w), np.max(w)\n",
    "\n",
    "classes = ['plane', 'car', 'bird', 'cat', 'deer', 'dog', 'frog', 'horse', 'ship', 'truck']\n",
    "for i in range(10):\n",
    "    plt.subplot(2, 5, i + 1)\n",
    "    \n",
    "    # Rescale the weights to be between 0 and 255\n",
    "    wimg = 255.0 * (w[:, :, :, i].squeeze() - w_min) / (w_max - w_min)\n",
    "    plt.imshow(wimg.astype('uint8'))\n",
    "    plt.axis('off')\n",
    "    plt.title(classes[i])"
   ]
  },
  {
   "cell_type": "code",
   "execution_count": null,
   "id": "24688f99",
   "metadata": {},
   "outputs": [],
   "source": []
  }
 ],
 "metadata": {
  "kernelspec": {
   "display_name": "Python 3",
   "language": "python",
   "name": "python3"
  },
  "language_info": {
   "codemirror_mode": {
    "name": "ipython",
    "version": 3
   },
   "file_extension": ".py",
   "mimetype": "text/x-python",
   "name": "python",
   "nbconvert_exporter": "python",
   "pygments_lexer": "ipython3",
   "version": "3.8.10"
  }
 },
 "nbformat": 4,
 "nbformat_minor": 5
}
